{
 "cells": [
  {
   "cell_type": "code",
   "execution_count": null,
   "id": "e92c7202",
   "metadata": {},
   "outputs": [],
   "source": [
    "import numpy as np\n",
    "import pandas as pd\n",
    "import math\n",
    "\n",
    "class Neuronet:\n",
    "\n",
    "    def __init__(self, X:list, y:list, neur_hide:int, neur_input:int, neur_out:int):\n",
    "        self.X = X\n",
    "        self.y = y\n",
    "        self.neur_hide = neur_hide\n",
    "        self.neur_input = neur_input \n",
    "        self.neur_out = neur_out\n",
    "        self.weights = []\n",
    "\n",
    "\n",
    "    def activations(self,out,activation:str = \"sigmoid\"):\n",
    "        match activation:\n",
    "            \n",
    "            case \"sigmoid\":\n",
    "                return 1/(1+np.exp(-out))\n",
    "        \n",
    "    def loss (self):\n",
    "        m = len(self.y)\n",
    "        total = 0\n",
    "        for i in range(m):\n",
    "            p = self.predict(self.X[i], self.weights)\n",
    "            total += -(self.y[i] * math.log(p) + (1 - self.y[i]) * math.log(1-p))\n",
    "        return total/m\n",
    "        \n",
    "    def predict(self,weights):\n",
    "        y_pred = weights[0]\n",
    "        for i in range(len(self.X)):\n",
    "            y_pred += weights[i+1] * self.X[i]\n",
    "        return self.activations(y_pred)\n",
    "\n",
    "    def train(self, lr=0.1, epochs:int = 1000):\n",
    "        m, n = len(self.X), len(self.X[0])\n",
    "        weights = [0.0] * (n + 1)\n",
    "    \n",
    "        for _ in range(epochs):\n",
    "            grad = [0.0] * (n + 1)\n",
    "            for i in range(m):\n",
    "                p = self.predict(self.X[i], weights)\n",
    "                error = p - self.y[i]\n",
    "                grad[0] += error  # bias\n",
    "                for j in range(n):\n",
    "                    grad[j + 1] += error * self.X[i][j]\n",
    "            \n",
    "            for j in range(n + 1):\n",
    "                weights[j] -= lr * grad[j] / m\n",
    "        \n",
    "        self.weights = weights\n",
    "    \n",
    "\n",
    "\n"
   ]
  }
 ],
 "metadata": {
  "kernelspec": {
   "display_name": ".venv",
   "language": "python",
   "name": "python3"
  },
  "language_info": {
   "codemirror_mode": {
    "name": "ipython",
    "version": 3
   },
   "file_extension": ".py",
   "mimetype": "text/x-python",
   "name": "python",
   "nbconvert_exporter": "python",
   "pygments_lexer": "ipython3",
   "version": "3.13.5"
  }
 },
 "nbformat": 4,
 "nbformat_minor": 5
}
