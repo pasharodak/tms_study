{
 "cells": [
  {
   "cell_type": "code",
   "execution_count": 1,
   "id": "72ca3d9f-45e4-4301-a738-22c21d74f719",
   "metadata": {},
   "outputs": [
    {
     "name": "stdout",
     "output_type": "stream",
     "text": [
      "[2, 10]\n",
      "[8, 9]\n",
      "[-4, 11]\n",
      "[-8, -1]\n",
      "[-7, 9]\n",
      "[-3, 3, -sqrt(3), sqrt(3)]\n"
     ]
    }
   ],
   "source": [
    "from sympy import symbols, Eq, solve\n",
    "\n",
    "\n",
    "x = symbols('x')\n",
    "y = symbols('y')\n",
    "b = symbols('b')\n",
    "z = symbols('z')\n",
    "\n",
    "equation_5 = Eq(y**2 - 12 * y + 20, 0)\n",
    "equation_6 = Eq(z**2 - 17 * z + 72, 0)\n",
    "equation_7 = Eq(x**2 - 7 * x - 44, 0)\n",
    "equation_8 = Eq(y**2 + 9 * y + 8, 0)\n",
    "equation_9 = Eq(b**2 - 2 * b - 63, 0)\n",
    "equation_10= Eq((x**2 - 8)**2 + 4*(x**2-8) - 5, 0)\n",
    "\n",
    "print(solve(equation_5, y))\n",
    "print(solve(equation_6, z))\n",
    "print(solve(equation_7, x))\n",
    "print(solve(equation_8, y))\n",
    "print(solve(equation_9, b))\n",
    "print(solve(equation_10, x))"
   ]
  },
  {
   "cell_type": "code",
   "execution_count": 2,
   "id": "49a733c3-84f5-4a7a-b916-c95a94bbe6bc",
   "metadata": {
    "scrolled": true
   },
   "outputs": [
    {
     "name": "stdout",
     "output_type": "stream",
     "text": [
      "[18, 5, 20, 12, 1]\n"
     ]
    }
   ],
   "source": [
    "input_list = [1,12,20,5,18]\n",
    "output_list = []\n",
    "\n",
    "for item in input_list[::-1]:\n",
    "    output_list.append(item)\n",
    "\n",
    "print(output_list)"
   ]
  },
  {
   "cell_type": "code",
   "execution_count": 10,
   "id": "85e3fb1b-d9c0-426b-aec6-2f4482806cb6",
   "metadata": {},
   "outputs": [
    {
     "name": "stdout",
     "output_type": "stream",
     "text": [
      "[5, 2, 3, 4, 1]\n"
     ]
    }
   ],
   "source": [
    "lst = [1,2,3,4,5]\n",
    "\n",
    "def change(lst):\n",
    "    new_lst = []\n",
    "    new_lst.append(lst[len(lst)-1])\n",
    "    for item in lst[1:len(lst)-1]:\n",
    "        new_lst.append(item)\n",
    "    new_lst.append(lst[0])\n",
    "    print(new_lst)\n",
    "\n",
    "change(lst)\n",
    "        \n",
    "        \n",
    "    "
   ]
  },
  {
   "cell_type": "code",
   "execution_count": 12,
   "id": "4619025f-dd9d-488c-94ba-1896fa7d56c3",
   "metadata": {},
   "outputs": [
    {
     "name": "stdout",
     "output_type": "stream",
     "text": [
      "1.3333333333333333\n"
     ]
    }
   ],
   "source": [
    "input_list = [1,2,3,4,5,10,8,12,2]\n",
    "\n",
    "def useless(lst):\n",
    "    big_number = lst[0]\n",
    "    for num in lst:\n",
    "        if big_number < num:\n",
    "            big_number = num\n",
    "    print(big_number / len(lst))\n",
    "\n",
    "\n",
    "useless(input_list)"
   ]
  },
  {
   "cell_type": "code",
   "execution_count": 16,
   "id": "59619bb1-6008-4086-a73e-d7aefa2f24fe",
   "metadata": {},
   "outputs": [
    {
     "name": "stdout",
     "output_type": "stream",
     "text": [
      "свет\n",
      "свет\n",
      "яблоко\n",
      "телефон\n",
      "длинная строка\n",
      "['свет__________', 'имя___________', 'яблоко________', 'телефон_______', 'длинная строка']\n"
     ]
    }
   ],
   "source": [
    "lst = ['свет','имя','яблоко','телефон','длинная строка']\n",
    "\n",
    "def all_eq(lst):\n",
    "    big_str = lst[0]\n",
    "    new_lst = []\n",
    "    for str_list in lst:\n",
    "        if len(big_str) < len(str_list):\n",
    "            big_str = str_list\n",
    "    len_big_str = len(big_str)\n",
    "    for str_list in lst:\n",
    "        new_str = str_list\n",
    "        len_str_list = len(str_list)\n",
    "        if len_str_list < len_big_str:\n",
    "            new_str = str_list + (len_big_str - len_str_list)*'_'\n",
    "        new_lst.append(new_str)\n",
    "    print(new_lst)\n",
    "\n",
    "all_eq(lst)"
   ]
  },
  {
   "cell_type": "code",
   "execution_count": null,
   "id": "7d02a1a7-ce29-4c08-af74-e021c6e7d0ce",
   "metadata": {},
   "outputs": [],
   "source": []
  }
 ],
 "metadata": {
  "kernelspec": {
   "display_name": "Python [conda env:base] *",
   "language": "python",
   "name": "conda-base-py"
  },
  "language_info": {
   "codemirror_mode": {
    "name": "ipython",
    "version": 3
   },
   "file_extension": ".py",
   "mimetype": "text/x-python",
   "name": "python",
   "nbconvert_exporter": "python",
   "pygments_lexer": "ipython3",
   "version": "3.13.5"
  }
 },
 "nbformat": 4,
 "nbformat_minor": 5
}
