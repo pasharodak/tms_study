{
 "cells": [
  {
   "cell_type": "code",
   "execution_count": 9,
   "id": "c044c017-4aa2-4da4-bd8f-c7a3b2067485",
   "metadata": {},
   "outputs": [
    {
     "name": "stdout",
     "output_type": "stream",
     "text": [
      "(4.245770181546244+0.489352941618834j)\n"
     ]
    }
   ],
   "source": [
    "import cmath\n",
    "\n",
    "def result(x:float):\n",
    "    return (cmath.cos(cmath.e)**x + cmath.log(1 + x)**2 + \n",
    "        cmath.sqrt(cmath.e**x + (cmath.sin(cmath.pi*x))**2 +\n",
    "        cmath.sqrt(1/x) + cmath.cos(x)**2))**cmath.sin(x)\n",
    "\n",
    "print(result(1.79))"
   ]
  },
  {
   "cell_type": "code",
   "execution_count": 39,
   "id": "fd161391-bbfe-49ae-9ffd-71f673592d67",
   "metadata": {},
   "outputs": [
    {
     "name": "stdout",
     "output_type": "stream",
     "text": [
      "Есть контакт!\n"
     ]
    }
   ],
   "source": [
    "def search_substr(subst:str,st:str):\n",
    "    subst = subst.lower()\n",
    "    st = st.lower()\n",
    "    len_subst = len(subst)\n",
    "    for i in range(0, len(st)-len(subst)+1):\n",
    "        if subst == st[i:i + len_subst]:\n",
    "            print(\"Есть контакт!\")\n",
    "            break\n",
    "    else:\n",
    "        print(\"Мимо!\")\n",
    "\n",
    "search_substr(\"боль\",\"Маленькая страна -  боль\")"
   ]
  },
  {
   "cell_type": "code",
   "execution_count": 40,
   "id": "ee6f084b-de54-4d86-a2cb-0fd20dd79270",
   "metadata": {},
   "outputs": [
    {
     "name": "stdout",
     "output_type": "stream",
     "text": [
      "[('j', 6), ('k', 4), ('d', 3)]\n"
     ]
    }
   ],
   "source": [
    "from collections import Counter\n",
    "\n",
    "\n",
    "st = 'Fkj djSS Sj jd fssj  kjflk      dfhk'\n",
    "\n",
    "def most_commonts(st:str):\n",
    "    counter = Counter(st.replace(\" \",\"\"))\n",
    "    print (counter.most_common(3))\n",
    "\n",
    "most_commonts(st)\n"
   ]
  },
  {
   "cell_type": "code",
   "execution_count": 70,
   "id": "c3ac6afa-bb21-48bb-b986-b257deaba560",
   "metadata": {},
   "outputs": [
    {
     "name": "stdout",
     "output_type": "stream",
     "text": [
      "{4: 3, 5: 3, 6: 2}\n"
     ]
    }
   ],
   "source": [
    "from collections import Counter\n",
    "\n",
    "str_numb = \"468753154867452\"\n",
    "\n",
    "def count_it(sequence:str):\n",
    "    list_sequence = [int(ch) for ch in sequence if ch.isdigit()]\n",
    "    counter = Counter(list_sequence)\n",
    "    print (dict(counter.most_common(3)))\n",
    "\n",
    "count_it(str_numb)"
   ]
  },
  {
   "cell_type": "code",
   "execution_count": 19,
   "id": "0a0e405f-af0b-43a0-b2c8-601a7887511b",
   "metadata": {},
   "outputs": [
    {
     "name": "stdout",
     "output_type": "stream",
     "text": [
      "Ферзя можно не бояться\n",
      "[[6, 8], [6, 4], [4, 8], [4, 4], [7, 7], [7, 5], [3, 7], [3, 5]]\n",
      "Конь не угражает вражеской фигуре, если походить:\n",
      "[6, 8]\n",
      "Конь не угражает вражеской фигуре, если походить:\n",
      "[6, 4]\n",
      "Конь не угражает вражеской фигуре, если походить:\n",
      "[4, 8]\n",
      "Конь не угражает вражеской фигуре, если походить:\n",
      "[4, 4]\n",
      "Конь не угражает вражеской фигуре, если походить:\n",
      "[7, 7]\n",
      "Конь не угражает вражеской фигуре, если походить:\n",
      "[7, 5]\n",
      "Конь угражает вражеской фигуре, если походить:\n",
      "[3, 7]\n",
      "Конь угражает вражеской фигуре, если походить:\n",
      "[3, 5]\n"
     ]
    }
   ],
   "source": [
    "ferc_coords = [5, 1]\n",
    "\n",
    "\n",
    "rec_move = []\n",
    "\n",
    "me_piece = [8, 2]\n",
    "#Прохожу во всех направлениях, в которых может походить ферзь и если совпадают координатами моей, то\n",
    "#вывожу, что угражает\n",
    "for iter_coord in range(0,8):\n",
    "    if (me_piece == [ferc_coords[0] + iter_coord, ferc_coords[1] + iter_coord]) or\\\n",
    "        (me_piece == [ferc_coords[0], ferc_coords[1] +  iter_coord]) or\\\n",
    "        (me_piece == [ferc_coords[0]+  iter_coord, ferc_coords[1]]) or\\\n",
    "        (me_piece == [ferc_coords[0] - iter_coord, ferc_coords[1] - iter_coord]) or\\\n",
    "        (me_piece == [ferc_coords[0] + iter_coord, ferc_coords[1] - iter_coord]) or\\\n",
    "        (me_piece == [ferc_coords[0] - iter_coord, ferc_coords[1] + iter_coord]) or\\\n",
    "        (me_piece == [ferc_coords[0] - iter_coord, ferc_coords[1]]) or\\\n",
    "        (me_piece == [ferc_coords[0], ferc_coords[1] - iter_coord]):\n",
    "        print(\"Ферзь угражает\")\n",
    "else:\n",
    "    print(\"Ферзя можно не бояться\")\n",
    "\n",
    "\n",
    "def horse_menace(me_piece,horse_coords):\n",
    "    if (me_piece == [horse_coords[0] + 1, horse_coords[1] + 2]) or\\\n",
    "            (me_piece == [horse_coords[0] + 1, horse_coords[1] - 2]) or\\\n",
    "            (me_piece == [horse_coords[0] - 1, horse_coords[1] + 2]) or\\\n",
    "            (me_piece == [horse_coords[0] - 1, horse_coords[1] - 2]) or\\\n",
    "            (me_piece == [horse_coords[0] + 2, horse_coords[1] + 1]) or\\\n",
    "            (me_piece == [horse_coords[0] + 2, horse_coords[1] - 1]) or\\\n",
    "            (me_piece == [horse_coords[0] - 2, horse_coords[1] + 1]) or\\\n",
    "            (me_piece == [horse_coords[0] - 2, horse_coords[1] - 1]):\n",
    "        return \"Конь угражает\"\n",
    "    else:\n",
    "        return \"Коня можно не бояться\"\n",
    "\n",
    "\n",
    "\n",
    "def horse_move(horse_coords):\n",
    "    horse_coords_after_move = []\n",
    "    horse_coords_after_move.append([horse_coords[0] + 1, horse_coords[1] + 2])\n",
    "    horse_coords_after_move.append([horse_coords[0] + 1, horse_coords[1] - 2])\n",
    "    horse_coords_after_move.append([horse_coords[0] - 1, horse_coords[1] + 2])\n",
    "    horse_coords_after_move.append([horse_coords[0] - 1, horse_coords[1] - 2])\n",
    "    horse_coords_after_move.append([horse_coords[0] + 2, horse_coords[1] + 1])\n",
    "    horse_coords_after_move.append([horse_coords[0] + 2, horse_coords[1] - 1])\n",
    "    horse_coords_after_move.append([horse_coords[0] - 2, horse_coords[1] + 1])\n",
    "    horse_coords_after_move.append([horse_coords[0] - 2, horse_coords[1] - 1])\n",
    "    return horse_coords_after_move\n",
    "\n",
    "\n",
    "horse_coords = [5,6]\n",
    "\n",
    "horse_coords_after_move = horse_move(horse_coords)\n",
    "print (horse_coords_after_move)\n",
    "\n",
    "\n",
    "opponent_piece = [1, 6]\n",
    "for horse_coord in horse_coords_after_move:\n",
    "    menace = horse_menace(opponent_piece,horse_coord)\n",
    "    if menace == \"Конь угражает\":\n",
    "        print(\"Конь угражает вражеской фигуре, если походить:\")\n",
    "        print (horse_coord)\n",
    "    if menace == \"Коня можно не бояться\":\n",
    "        print(\"Конь не угражает вражеской фигуре, если походить:\")\n",
    "        print(horse_coord)\n",
    "        "
   ]
  },
  {
   "cell_type": "code",
   "execution_count": null,
   "id": "3733d2ab-d864-4a72-8714-57b65b1fd153",
   "metadata": {},
   "outputs": [],
   "source": []
  },
  {
   "cell_type": "code",
   "execution_count": null,
   "id": "cf4194e6-6e7e-4296-aae2-55ae7900f7c3",
   "metadata": {},
   "outputs": [],
   "source": []
  },
  {
   "cell_type": "code",
   "execution_count": null,
   "id": "d034bfa3-c0fe-4da1-87a9-5526f7b5f699",
   "metadata": {},
   "outputs": [],
   "source": []
  },
  {
   "cell_type": "code",
   "execution_count": null,
   "id": "c6142641-681e-45b9-972c-19c10ee6f8f6",
   "metadata": {},
   "outputs": [],
   "source": []
  }
 ],
 "metadata": {
  "kernelspec": {
   "display_name": "Python [conda env:base] *",
   "language": "python",
   "name": "conda-base-py"
  },
  "language_info": {
   "codemirror_mode": {
    "name": "ipython",
    "version": 3
   },
   "file_extension": ".py",
   "mimetype": "text/x-python",
   "name": "python",
   "nbconvert_exporter": "python",
   "pygments_lexer": "ipython3",
   "version": "3.13.5"
  }
 },
 "nbformat": 4,
 "nbformat_minor": 5
}
