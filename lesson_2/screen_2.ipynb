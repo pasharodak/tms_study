{
 "cells": [
  {
   "cell_type": "code",
   "execution_count": 9,
   "id": "c044c017-4aa2-4da4-bd8f-c7a3b2067485",
   "metadata": {},
   "outputs": [
    {
     "name": "stdout",
     "output_type": "stream",
     "text": [
      "(4.245770181546244+0.489352941618834j)\n"
     ]
    }
   ],
   "source": [
    "import cmath\n",
    "\n",
    "def result(x:float):\n",
    "    return (cmath.cos(cmath.e)**x + cmath.log(1 + x)**2 + \n",
    "        cmath.sqrt(cmath.e**x + (cmath.sin(cmath.pi*x))**2 +\n",
    "        cmath.sqrt(1/x) + cmath.cos(x)**2))**cmath.sin(x)\n",
    "\n",
    "print(result(1.79))"
   ]
  },
  {
   "cell_type": "code",
   "execution_count": 39,
   "id": "fd161391-bbfe-49ae-9ffd-71f673592d67",
   "metadata": {},
   "outputs": [
    {
     "name": "stdout",
     "output_type": "stream",
     "text": [
      "Есть контакт!\n"
     ]
    }
   ],
   "source": [
    "def search_substr(subst:str,st:str):\n",
    "    subst = subst.lower()\n",
    "    st = st.lower()\n",
    "    len_subst = len(subst)\n",
    "    for i in range(0, len(st)-len(subst)+1):\n",
    "        if subst == st[i:i + len_subst]:\n",
    "            print(\"Есть контакт!\")\n",
    "            break\n",
    "    else:\n",
    "        print(\"Мимо!\")\n",
    "\n",
    "search_substr(\"боль\",\"Маленькая страна -  боль\")"
   ]
  },
  {
   "cell_type": "code",
   "execution_count": 40,
   "id": "ee6f084b-de54-4d86-a2cb-0fd20dd79270",
   "metadata": {},
   "outputs": [
    {
     "name": "stdout",
     "output_type": "stream",
     "text": [
      "[('j', 6), ('k', 4), ('d', 3)]\n"
     ]
    }
   ],
   "source": [
    "from collections import Counter\n",
    "\n",
    "\n",
    "st = 'Fkj djSS Sj jd fssj  kjflk      dfhk'\n",
    "\n",
    "def most_commonts(st:str):\n",
    "    counter = Counter(st.replace(\" \",\"\"))\n",
    "    print (counter.most_common(3))\n",
    "\n",
    "most_commonts(st)\n"
   ]
  },
  {
   "cell_type": "code",
   "execution_count": 70,
   "id": "c3ac6afa-bb21-48bb-b986-b257deaba560",
   "metadata": {},
   "outputs": [
    {
     "name": "stdout",
     "output_type": "stream",
     "text": [
      "{4: 3, 5: 3, 6: 2}\n"
     ]
    }
   ],
   "source": [
    "from collections import Counter\n",
    "\n",
    "str_numb = \"468753154867452\"\n",
    "\n",
    "def count_it(sequence:str):\n",
    "    list_sequence = [int(ch) for ch in sequence if ch.isdigit()]\n",
    "    counter = Counter(list_sequence)\n",
    "    print (dict(counter.most_common(3)))\n",
    "\n",
    "count_it(str_numb)"
   ]
  },
  {
   "cell_type": "code",
   "execution_count": 77,
   "id": "0a0e405f-af0b-43a0-b2c8-601a7887511b",
   "metadata": {},
   "outputs": [
    {
     "name": "stdout",
     "output_type": "stream",
     "text": [
      "5\n",
      "Ферзь угражает\n",
      "Конь угражает\n"
     ]
    }
   ],
   "source": [
    "ferc_coords = [5, 1]\n",
    "horse_coords = [3,6]\n",
    "me_piece = [5, 7]\n",
    "rec_move = []\n",
    "#Прохожу во всех направлениях, в которых может походить ферзь и если совпадают координатами моей, то\n",
    "#вывожу, что угражает\n",
    "for iter_coord in range(0,8):\n",
    "    if (me_piece == [ferc_coords[0] + iter_coord, ferc_coords[1] + iter_coord]) or\\\n",
    "        (me_piece == [ferc_coords[0], ferc_coords[1] +  iter_coord]) or\\\n",
    "        (me_piece == [ferc_coords[0]+  iter_coord, ferc_coords[1]]) or\\\n",
    "        (me_piece == [ferc_coords[0] - iter_coord, ferc_coords[1] - iter_coord]) or\\\n",
    "        (me_piece == [ferc_coords[0] + iter_coord, ferc_coords[1] - iter_coord]) or\\\n",
    "        (me_piece == [ferc_coords[0] - iter_coord, ferc_coords[1] + iter_coord]) or\\\n",
    "        (me_piece == [ferc_coords[0] - iter_coord, ferc_coords[1]]) or\\\n",
    "        (me_piece == [ferc_coords[0], ferc_coords[1] - iter_coord]):\n",
    "        print(\"Ферзь угражает\")\n",
    "else:\n",
    "    (\"Ферзя можно не бояться\")\n",
    "\n",
    "if (me_piece == [horse_coords[0] + 1, horse_coords[1] + 2]) or\\\n",
    "        (me_piece == [horse_coords[0] + 1, horse_coords[1] + 2]) or\\\n",
    "        (me_piece == [horse_coords[0] + 1, horse_coords[1] - 2]) or\\\n",
    "        (me_piece == [horse_coords[0] - 1, horse_coords[1] + 2]) or\\\n",
    "        (me_piece == [horse_coords[0] - 1, horse_coords[1] - 2]) or\\\n",
    "        (me_piece == [horse_coords[0] + 2, horse_coords[1] + 1]) or\\\n",
    "        (me_piece == [horse_coords[0] + 2, horse_coords[1] - 1]) or\\\n",
    "        (me_piece == [horse_coords[0] - 2, horse_coords[1] + 1]) or\\\n",
    "        (me_piece == [horse_coords[0] - 2, horse_coords[1] - 1]):\n",
    "    print(\"Конь угражает\")\n",
    "else:\n",
    "    (\"Коня можно не бояться\")\n",
    "\n"
   ]
  },
  {
   "cell_type": "code",
   "execution_count": null,
   "id": "3733d2ab-d864-4a72-8714-57b65b1fd153",
   "metadata": {},
   "outputs": [],
   "source": []
  }
 ],
 "metadata": {
  "kernelspec": {
   "display_name": "Python [conda env:base] *",
   "language": "python",
   "name": "conda-base-py"
  },
  "language_info": {
   "codemirror_mode": {
    "name": "ipython",
    "version": 3
   },
   "file_extension": ".py",
   "mimetype": "text/x-python",
   "name": "python",
   "nbconvert_exporter": "python",
   "pygments_lexer": "ipython3",
   "version": "3.13.5"
  }
 },
 "nbformat": 4,
 "nbformat_minor": 5
}
