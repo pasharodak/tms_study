{
 "cells": [
  {
   "cell_type": "code",
   "execution_count": 1,
   "id": "fc894a9f",
   "metadata": {},
   "outputs": [],
   "source": [
    "import pandas as pd\n",
    "import tensorflow as tf\n",
    "\n",
    "from sklearn.linear_model import LinearRegression\n",
    "from sklearn.model_selection import train_test_split\n",
    "from sklearn.metrics import mean_squared_error\n",
    "from sklearn.metrics import r2_score\n",
    "from sklearn.preprocessing import StandardScaler\n",
    "from sklearn.svm import SVR\n",
    "from sklearn.model_selection import train_test_split\n",
    "from sklearn.tree import DecisionTreeRegressor, export_text\n",
    "from sklearn.ensemble import RandomForestRegressor\n",
    "import matplotlib.pyplot as plt\n",
    "from sklearn.ensemble import GradientBoostingRegressor\n",
    "from xgboost import XGBRegressor\n",
    "from catboost import CatBoostRegressor\n",
    "import lightgbm as lgb\n",
    "\n",
    "\n",
    "\n",
    "df = pd.read_csv('./insurance.csv',header=0, delimiter=\",\")"
   ]
  },
  {
   "cell_type": "code",
   "execution_count": 2,
   "id": "0b44f35e",
   "metadata": {},
   "outputs": [
    {
     "name": "stdout",
     "output_type": "stream",
     "text": [
      "<class 'pandas.core.frame.DataFrame'>\n",
      "RangeIndex: 1338 entries, 0 to 1337\n",
      "Data columns (total 7 columns):\n",
      " #   Column    Non-Null Count  Dtype  \n",
      "---  ------    --------------  -----  \n",
      " 0   age       1338 non-null   int64  \n",
      " 1   sex       1338 non-null   object \n",
      " 2   bmi       1338 non-null   float64\n",
      " 3   children  1338 non-null   int64  \n",
      " 4   smoker    1338 non-null   object \n",
      " 5   region    1338 non-null   object \n",
      " 6   charges   1338 non-null   float64\n",
      "dtypes: float64(2), int64(2), object(3)\n",
      "memory usage: 73.3+ KB\n"
     ]
    }
   ],
   "source": [
    "df.info()"
   ]
  },
  {
   "cell_type": "code",
   "execution_count": 3,
   "id": "526d9c65",
   "metadata": {},
   "outputs": [
    {
     "data": {
      "text/html": [
       "<div>\n",
       "<style scoped>\n",
       "    .dataframe tbody tr th:only-of-type {\n",
       "        vertical-align: middle;\n",
       "    }\n",
       "\n",
       "    .dataframe tbody tr th {\n",
       "        vertical-align: top;\n",
       "    }\n",
       "\n",
       "    .dataframe thead th {\n",
       "        text-align: right;\n",
       "    }\n",
       "</style>\n",
       "<table border=\"1\" class=\"dataframe\">\n",
       "  <thead>\n",
       "    <tr style=\"text-align: right;\">\n",
       "      <th></th>\n",
       "      <th>age</th>\n",
       "      <th>bmi</th>\n",
       "      <th>children</th>\n",
       "      <th>charges</th>\n",
       "    </tr>\n",
       "  </thead>\n",
       "  <tbody>\n",
       "    <tr>\n",
       "      <th>count</th>\n",
       "      <td>1338.000000</td>\n",
       "      <td>1338.000000</td>\n",
       "      <td>1338.000000</td>\n",
       "      <td>1338.000000</td>\n",
       "    </tr>\n",
       "    <tr>\n",
       "      <th>mean</th>\n",
       "      <td>39.207025</td>\n",
       "      <td>30.663397</td>\n",
       "      <td>1.094918</td>\n",
       "      <td>13270.422265</td>\n",
       "    </tr>\n",
       "    <tr>\n",
       "      <th>std</th>\n",
       "      <td>14.049960</td>\n",
       "      <td>6.098187</td>\n",
       "      <td>1.205493</td>\n",
       "      <td>12110.011237</td>\n",
       "    </tr>\n",
       "    <tr>\n",
       "      <th>min</th>\n",
       "      <td>18.000000</td>\n",
       "      <td>15.960000</td>\n",
       "      <td>0.000000</td>\n",
       "      <td>1121.873900</td>\n",
       "    </tr>\n",
       "    <tr>\n",
       "      <th>25%</th>\n",
       "      <td>27.000000</td>\n",
       "      <td>26.296250</td>\n",
       "      <td>0.000000</td>\n",
       "      <td>4740.287150</td>\n",
       "    </tr>\n",
       "    <tr>\n",
       "      <th>50%</th>\n",
       "      <td>39.000000</td>\n",
       "      <td>30.400000</td>\n",
       "      <td>1.000000</td>\n",
       "      <td>9382.033000</td>\n",
       "    </tr>\n",
       "    <tr>\n",
       "      <th>75%</th>\n",
       "      <td>51.000000</td>\n",
       "      <td>34.693750</td>\n",
       "      <td>2.000000</td>\n",
       "      <td>16639.912515</td>\n",
       "    </tr>\n",
       "    <tr>\n",
       "      <th>max</th>\n",
       "      <td>64.000000</td>\n",
       "      <td>53.130000</td>\n",
       "      <td>5.000000</td>\n",
       "      <td>63770.428010</td>\n",
       "    </tr>\n",
       "  </tbody>\n",
       "</table>\n",
       "</div>"
      ],
      "text/plain": [
       "               age          bmi     children       charges\n",
       "count  1338.000000  1338.000000  1338.000000   1338.000000\n",
       "mean     39.207025    30.663397     1.094918  13270.422265\n",
       "std      14.049960     6.098187     1.205493  12110.011237\n",
       "min      18.000000    15.960000     0.000000   1121.873900\n",
       "25%      27.000000    26.296250     0.000000   4740.287150\n",
       "50%      39.000000    30.400000     1.000000   9382.033000\n",
       "75%      51.000000    34.693750     2.000000  16639.912515\n",
       "max      64.000000    53.130000     5.000000  63770.428010"
      ]
     },
     "execution_count": 3,
     "metadata": {},
     "output_type": "execute_result"
    }
   ],
   "source": [
    "df.describe()"
   ]
  },
  {
   "cell_type": "code",
   "execution_count": 4,
   "id": "edf19e21",
   "metadata": {},
   "outputs": [
    {
     "data": {
      "text/plain": [
       "<bound method DataFrame.corr of       age     sex     bmi  children smoker     region      charges\n",
       "0      19  female  27.900         0    yes  southwest  16884.92400\n",
       "1      18    male  33.770         1     no  southeast   1725.55230\n",
       "2      28    male  33.000         3     no  southeast   4449.46200\n",
       "3      33    male  22.705         0     no  northwest  21984.47061\n",
       "4      32    male  28.880         0     no  northwest   3866.85520\n",
       "...   ...     ...     ...       ...    ...        ...          ...\n",
       "1333   50    male  30.970         3     no  northwest  10600.54830\n",
       "1334   18  female  31.920         0     no  northeast   2205.98080\n",
       "1335   18  female  36.850         0     no  southeast   1629.83350\n",
       "1336   21  female  25.800         0     no  southwest   2007.94500\n",
       "1337   61  female  29.070         0    yes  northwest  29141.36030\n",
       "\n",
       "[1338 rows x 7 columns]>"
      ]
     },
     "execution_count": 4,
     "metadata": {},
     "output_type": "execute_result"
    }
   ],
   "source": [
    "df.corr"
   ]
  },
  {
   "cell_type": "code",
   "execution_count": 5,
   "id": "e48d3daf",
   "metadata": {},
   "outputs": [
    {
     "data": {
      "text/plain": [
       "(1338, 7)"
      ]
     },
     "execution_count": 5,
     "metadata": {},
     "output_type": "execute_result"
    }
   ],
   "source": [
    "df.shape"
   ]
  },
  {
   "cell_type": "code",
   "execution_count": 6,
   "id": "61009561",
   "metadata": {},
   "outputs": [],
   "source": [
    "X = df.drop(['charges'], axis = 1)\n",
    "y = df['charges']\n",
    "\n",
    "X = pd.get_dummies(X, drop_first=True)\n",
    "\n",
    "X_train, X_test, y_train, y_test = train_test_split(X, y, test_size = 0.2, random_state=42)"
   ]
  },
  {
   "cell_type": "code",
   "execution_count": 7,
   "id": "1e3453d8",
   "metadata": {},
   "outputs": [],
   "source": [
    "model = LinearRegression()\n",
    "\n",
    "model.fit(X_train,y_train)\n",
    "y_pred = model.predict(X_test)"
   ]
  },
  {
   "cell_type": "code",
   "execution_count": 8,
   "id": "edd44ca4",
   "metadata": {},
   "outputs": [
    {
     "name": "stdout",
     "output_type": "stream",
     "text": [
      "Коэффициенты: [ 2.56975706e+02  3.37092552e+02  4.25278784e+02 -1.85916916e+01\n",
      "  2.36511289e+04 -3.70677326e+02 -6.57864297e+02 -8.09799354e+02]\n",
      "Свободный член: -11931.219050326692\n",
      "R^2 на тесте: 0.7835929767120723\n",
      "MSE: 33596915.85136146\n"
     ]
    }
   ],
   "source": [
    "MSE = mean_squared_error(y_test,y_pred)\n",
    "print(\"Коэффициенты:\", model.coef_)\n",
    "print(\"Свободный член:\", model.intercept_)\n",
    "\n",
    "# Оценка качества\n",
    "print(\"R^2 на тесте:\", model.score(X_test, y_test))\n",
    "print(F\"MSE:\",MSE)"
   ]
  },
  {
   "cell_type": "code",
   "execution_count": 9,
   "id": "dac677f4",
   "metadata": {},
   "outputs": [
    {
     "name": "stdout",
     "output_type": "stream",
     "text": [
      "R^2 на тесте: 0.8473573277687062\n",
      "MSE: 292073147.28156054\n",
      "Пример предсказаний: [ 8420.71303417  5021.6038462  27843.26373988  9788.94627801\n",
      " 24630.45806264]\n"
     ]
    }
   ],
   "source": [
    "scaler_X = StandardScaler()\n",
    "scaler_y = StandardScaler()\n",
    "\n",
    "X_scaled = scaler_X.fit_transform(X)\n",
    "y_scaled = scaler_y.fit_transform(y.values.reshape(-1,1)).ravel()\n",
    "\n",
    "X_train, X_test, y_train, y_test = train_test_split(X_scaled, y_scaled, test_size=0.2, random_state=42)\n",
    "\n",
    "\n",
    "svr = SVR(kernel='rbf', C=100, gamma=0.1, epsilon=0.1)\n",
    "svr.fit(X_train, y_train)\n",
    "\n",
    "# Оценка качества\n",
    "r2 = svr.score(X_test, y_test)\n",
    "print(\"R^2 на тесте:\", r2)\n",
    "\n",
    "# Пример предсказания (обратно в исходные единицы)\n",
    "y_pred_scaled = svr.predict(X_test)\n",
    "y_pred = scaler_y.inverse_transform(y_pred_scaled.reshape(-1,1))\n",
    "\n",
    "\n",
    "MSE = mean_squared_error(y_test,y_pred)\n",
    "print(F\"MSE:\",MSE)\n",
    "print(\"Пример предсказаний:\", y_pred[:5].ravel())"
   ]
  },
  {
   "cell_type": "code",
   "execution_count": 10,
   "id": "2e90ccbf",
   "metadata": {},
   "outputs": [
    {
     "name": "stdout",
     "output_type": "stream",
     "text": [
      "R^2 на тесте: 0.8061643978869217\n",
      "|--- smoker_yes <= 0.50\n",
      "|   |--- age <= 42.50\n",
      "|   |   |--- age <= 22.50\n",
      "|   |   |   |--- children <= 1.50\n",
      "|   |   |   |   |--- bmi <= 28.26\n",
      "|   |   |   |   |   |--- sex_male <= 0.50\n",
      "|   |   |   |   |   |   |--- value: [2115.87]\n",
      "|   |   |   |   |   |--- sex_male >  0.50\n",
      "|   |   |   |   |   |   |--- value: [1697.68]\n",
      "|   |   |   |   |--- bmi >  28.26\n",
      "|   |   |   |   |   |--- children <= 0.50\n",
      "|   |   |   |   |   |   |--- value: [2907.47]\n",
      "|   |   |   |   |   |--- children >  0.50\n",
      "|   |   |   |   |   |   |--- value: [5656.74]\n",
      "|   |   |   |--- children >  1.50\n",
      "|   |   |   |   |--- region_northwest <= 0.50\n",
      "|   |   |   |   |   |--- bmi <= 21.84\n",
      "|   |   |   |   |   |   |--- value: [6583.56]\n",
      "|   |   |   |   |   |--- bmi >  21.84\n",
      "|   |   |   |   |   |   |--- value: [3475.21]\n",
      "|   |   |   |   |--- region_northwest >  0.50\n",
      "|   |   |   |   |   |--- sex_male <= 0.50\n",
      "|   |   |   |   |   |   |--- value: [22972.44]\n",
      "|   |   |   |   |   |--- sex_male >  0.50\n",
      "|   |   |   |   |   |   |--- value: [2940.40]\n",
      "|   |   |--- age >  22.50\n",
      "|   |   |   |--- children <= 1.50\n",
      "|   |   |   |   |--- age <= 36.50\n",
      "|   |   |   |   |   |--- bmi <= 24.75\n",
      "|   |   |   |   |   |   |--- value: [6364.55]\n",
      "|   |   |   |   |   |--- bmi >  24.75\n",
      "|   |   |   |   |   |   |--- value: [4908.55]\n",
      "|   |   |   |   |--- age >  36.50\n",
      "|   |   |   |   |   |--- age <= 37.50\n",
      "|   |   |   |   |   |   |--- value: [11084.51]\n",
      "|   |   |   |   |   |--- age >  37.50\n",
      "|   |   |   |   |   |   |--- value: [6527.70]\n",
      "|   |   |   |--- children >  1.50\n",
      "|   |   |   |   |--- region_southwest <= 0.50\n",
      "|   |   |   |   |   |--- children <= 3.50\n",
      "|   |   |   |   |   |   |--- value: [7483.14]\n",
      "|   |   |   |   |   |--- children >  3.50\n",
      "|   |   |   |   |   |   |--- value: [10377.43]\n",
      "|   |   |   |   |--- region_southwest >  0.50\n",
      "|   |   |   |   |   |--- age <= 32.50\n",
      "|   |   |   |   |   |   |--- value: [4561.11]\n",
      "|   |   |   |   |   |--- age >  32.50\n",
      "|   |   |   |   |   |   |--- value: [6915.70]\n",
      "|   |--- age >  42.50\n",
      "|   |   |--- age <= 51.50\n",
      "|   |   |   |--- bmi <= 24.07\n",
      "|   |   |   |   |--- age <= 48.50\n",
      "|   |   |   |   |   |--- children <= 0.50\n",
      "|   |   |   |   |   |   |--- value: [7283.22]\n",
      "|   |   |   |   |   |--- children >  0.50\n",
      "|   |   |   |   |   |   |--- value: [8619.94]\n",
      "|   |   |   |   |--- age >  48.50\n",
      "|   |   |   |   |   |--- children <= 1.50\n",
      "|   |   |   |   |   |   |--- value: [9512.06]\n",
      "|   |   |   |   |   |--- children >  1.50\n",
      "|   |   |   |   |   |   |--- value: [10132.00]\n",
      "|   |   |   |--- bmi >  24.07\n",
      "|   |   |   |   |--- bmi <= 24.20\n",
      "|   |   |   |   |   |--- value: [26236.58]\n",
      "|   |   |   |   |--- bmi >  24.20\n",
      "|   |   |   |   |   |--- bmi <= 29.77\n",
      "|   |   |   |   |   |   |--- value: [11529.25]\n",
      "|   |   |   |   |   |--- bmi >  29.77\n",
      "|   |   |   |   |   |   |--- value: [9947.54]\n",
      "|   |   |--- age >  51.50\n",
      "|   |   |   |--- age <= 58.50\n",
      "|   |   |   |   |--- children <= 1.50\n",
      "|   |   |   |   |   |--- bmi <= 26.89\n",
      "|   |   |   |   |   |   |--- value: [13655.53]\n",
      "|   |   |   |   |   |--- bmi >  26.89\n",
      "|   |   |   |   |   |   |--- value: [11902.94]\n",
      "|   |   |   |   |--- children >  1.50\n",
      "|   |   |   |   |   |--- region_southwest <= 0.50\n",
      "|   |   |   |   |   |   |--- value: [14977.13]\n",
      "|   |   |   |   |   |--- region_southwest >  0.50\n",
      "|   |   |   |   |   |   |--- value: [11509.92]\n",
      "|   |   |   |--- age >  58.50\n",
      "|   |   |   |   |--- children <= 3.50\n",
      "|   |   |   |   |   |--- children <= 0.50\n",
      "|   |   |   |   |   |   |--- value: [13995.15]\n",
      "|   |   |   |   |   |--- children >  0.50\n",
      "|   |   |   |   |   |   |--- value: [17264.05]\n",
      "|   |   |   |   |--- children >  3.50\n",
      "|   |   |   |   |   |--- value: [36580.28]\n",
      "|--- smoker_yes >  0.50\n",
      "|   |--- bmi <= 29.97\n",
      "|   |   |--- age <= 41.00\n",
      "|   |   |   |--- bmi <= 24.27\n",
      "|   |   |   |   |--- age <= 19.50\n",
      "|   |   |   |   |   |--- children <= 1.00\n",
      "|   |   |   |   |   |   |--- value: [13958.61]\n",
      "|   |   |   |   |   |--- children >  1.00\n",
      "|   |   |   |   |   |   |--- value: [12829.46]\n",
      "|   |   |   |   |--- age >  19.50\n",
      "|   |   |   |   |   |--- region_southwest <= 0.50\n",
      "|   |   |   |   |   |   |--- value: [16245.35]\n",
      "|   |   |   |   |   |--- region_southwest >  0.50\n",
      "|   |   |   |   |   |   |--- value: [18404.89]\n",
      "|   |   |   |--- bmi >  24.27\n",
      "|   |   |   |   |--- age <= 19.50\n",
      "|   |   |   |   |   |--- bmi <= 26.66\n",
      "|   |   |   |   |   |   |--- value: [15984.54]\n",
      "|   |   |   |   |   |--- bmi >  26.66\n",
      "|   |   |   |   |   |   |--- value: [17419.76]\n",
      "|   |   |   |   |--- age >  19.50\n",
      "|   |   |   |   |   |--- bmi <= 28.49\n",
      "|   |   |   |   |   |   |--- value: [19809.20]\n",
      "|   |   |   |   |   |--- bmi >  28.49\n",
      "|   |   |   |   |   |   |--- value: [22085.51]\n",
      "|   |   |--- age >  41.00\n",
      "|   |   |   |--- bmi <= 25.96\n",
      "|   |   |   |   |--- age <= 44.50\n",
      "|   |   |   |   |   |--- bmi <= 24.67\n",
      "|   |   |   |   |   |   |--- value: [19816.71]\n",
      "|   |   |   |   |   |--- bmi >  24.67\n",
      "|   |   |   |   |   |   |--- value: [21826.08]\n",
      "|   |   |   |   |--- age >  44.50\n",
      "|   |   |   |   |   |--- age <= 45.50\n",
      "|   |   |   |   |   |   |--- value: [28083.96]\n",
      "|   |   |   |   |   |--- age >  45.50\n",
      "|   |   |   |   |   |   |--- value: [23999.46]\n",
      "|   |   |   |--- bmi >  25.96\n",
      "|   |   |   |   |--- bmi <= 26.18\n",
      "|   |   |   |   |   |--- value: [38245.59]\n",
      "|   |   |   |   |--- bmi >  26.18\n",
      "|   |   |   |   |   |--- bmi <= 28.26\n",
      "|   |   |   |   |   |   |--- value: [24980.23]\n",
      "|   |   |   |   |   |--- bmi >  28.26\n",
      "|   |   |   |   |   |   |--- value: [28998.31]\n",
      "|   |--- bmi >  29.97\n",
      "|   |   |--- age <= 30.50\n",
      "|   |   |   |--- bmi <= 35.61\n",
      "|   |   |   |   |--- bmi <= 32.11\n",
      "|   |   |   |   |   |--- children <= 2.50\n",
      "|   |   |   |   |   |   |--- value: [33931.04]\n",
      "|   |   |   |   |   |--- children >  2.50\n",
      "|   |   |   |   |   |   |--- value: [35892.35]\n",
      "|   |   |   |   |--- bmi >  32.11\n",
      "|   |   |   |   |   |--- age <= 24.50\n",
      "|   |   |   |   |   |   |--- value: [35450.23]\n",
      "|   |   |   |   |   |--- age >  24.50\n",
      "|   |   |   |   |   |   |--- value: [36439.04]\n",
      "|   |   |   |--- bmi >  35.61\n",
      "|   |   |   |   |--- age <= 27.50\n",
      "|   |   |   |   |   |--- bmi <= 41.14\n",
      "|   |   |   |   |   |   |--- value: [37155.15]\n",
      "|   |   |   |   |   |--- bmi >  41.14\n",
      "|   |   |   |   |   |   |--- value: [40228.72]\n",
      "|   |   |   |   |--- age >  27.50\n",
      "|   |   |   |   |   |--- children <= 1.50\n",
      "|   |   |   |   |   |   |--- value: [51194.56]\n",
      "|   |   |   |   |   |--- children >  1.50\n",
      "|   |   |   |   |   |   |--- value: [40086.94]\n",
      "|   |   |--- age >  30.50\n",
      "|   |   |   |--- age <= 50.50\n",
      "|   |   |   |   |--- age <= 32.00\n",
      "|   |   |   |   |   |--- value: [58571.07]\n",
      "|   |   |   |   |--- age >  32.00\n",
      "|   |   |   |   |   |--- bmi <= 30.43\n",
      "|   |   |   |   |   |   |--- value: [48511.77]\n",
      "|   |   |   |   |   |--- bmi >  30.43\n",
      "|   |   |   |   |   |   |--- value: [41659.58]\n",
      "|   |   |   |--- age >  50.50\n",
      "|   |   |   |   |--- bmi <= 30.84\n",
      "|   |   |   |   |   |--- children <= 0.50\n",
      "|   |   |   |   |   |   |--- value: [42303.69]\n",
      "|   |   |   |   |   |--- children >  0.50\n",
      "|   |   |   |   |   |   |--- value: [41999.52]\n",
      "|   |   |   |   |--- bmi >  30.84\n",
      "|   |   |   |   |   |--- children <= 2.50\n",
      "|   |   |   |   |   |   |--- value: [46779.31]\n",
      "|   |   |   |   |   |--- children >  2.50\n",
      "|   |   |   |   |   |   |--- value: [49534.88]\n",
      "\n"
     ]
    }
   ],
   "source": [
    "X_train, X_test, y_train, y_test = train_test_split(X, y, test_size=0.2, random_state=42)\n",
    "\n",
    "tree = DecisionTreeRegressor(max_depth=6, random_state=42)  # max_depth ограничивает глубину\n",
    "tree.fit(X_train, y_train)\n",
    "\n",
    "# Оценка качества\n",
    "print(\"R^2 на тесте:\", tree.score(X_test, y_test))\n",
    "\n",
    "# Текстовое представление дерева\n",
    "tree_rules = export_text(tree, feature_names=list(X.columns))\n",
    "print(tree_rules)"
   ]
  },
  {
   "cell_type": "code",
   "execution_count": 11,
   "id": "dcf12a48",
   "metadata": {},
   "outputs": [
    {
     "name": "stdout",
     "output_type": "stream",
     "text": [
      "MSE: 21039978.52953915\n",
      "R^2 на тесте: 0.8644756815249467\n",
      "Важность признаков:\n",
      "smoker_yes          0.609377\n",
      "bmi                 0.214840\n",
      "age                 0.134682\n",
      "children            0.019561\n",
      "sex_male            0.006308\n",
      "region_northwest    0.005733\n",
      "region_southeast    0.005417\n",
      "region_southwest    0.004081\n",
      "dtype: float64\n"
     ]
    }
   ],
   "source": [
    "rf = RandomForestRegressor(\n",
    "    n_estimators=200,      # количество деревьев\n",
    "    max_depth=None,        # глубина (None = до упора)\n",
    "    random_state=42,\n",
    "    n_jobs=-1              # использовать все ядра процессора\n",
    ")\n",
    "rf.fit(X_train, y_train)\n",
    "\n",
    "\n",
    "y_pred = rf.predict(X_test)\n",
    "# Оценка качества\n",
    "MSE = mean_squared_error(y_test,y_pred)\n",
    "print(F\"MSE:\",MSE)\n",
    "print(\"R^2 на тесте:\", rf.score(X_test, y_test))\n",
    "\n",
    "# Важность признаков\n",
    "importances = pd.Series(rf.feature_importances_, index=X.columns)\n",
    "print(\"Важность признаков:\")\n",
    "print(importances.sort_values(ascending=False))"
   ]
  },
  {
   "cell_type": "code",
   "execution_count": 12,
   "id": "c6882557",
   "metadata": {},
   "outputs": [
    {
     "data": {
      "image/png": "[encoded data removed]",
      "text/plain": [
       "<Figure size 800x500 with 1 Axes>"
      ]
     },
     "metadata": {},
     "output_type": "display_data"
    }
   ],
   "source": [
    "importances.sort_values().plot(kind='barh', figsize=(8,5))\n",
    "plt.title(\"Важность признаков в Random Forest\")\n",
    "plt.show()"
   ]
  },
  {
   "cell_type": "code",
   "execution_count": 13,
   "id": "1b1624c8",
   "metadata": {},
   "outputs": [
    {
     "name": "stdout",
     "output_type": "stream",
     "text": [
      "R^2 на тесте: 0.877884236891984\n",
      "Важность признаков:\n",
      "smoker_yes          0.667912\n",
      "bmi                 0.195324\n",
      "age                 0.119687\n",
      "children            0.011472\n",
      "region_northwest    0.002573\n",
      "region_southwest    0.001414\n",
      "region_southeast    0.000937\n",
      "sex_male            0.000681\n",
      "dtype: float64\n"
     ]
    }
   ],
   "source": [
    "gb = GradientBoostingRegressor(\n",
    "    n_estimators=300,   # количество деревьев\n",
    "    learning_rate=0.05, # скорость обучения\n",
    "    max_depth=3,        # глубина базовых деревьев\n",
    "    random_state=42\n",
    ")\n",
    "gb.fit(X_train, y_train)\n",
    "\n",
    "# Оценка качества\n",
    "print(\"R^2 на тесте:\", gb.score(X_test, y_test))\n",
    "\n",
    "# Важность признаков\n",
    "importances = pd.Series(gb.feature_importances_, index=X.columns)\n",
    "print(\"Важность признаков:\")\n",
    "print(importances.sort_values(ascending=False))"
   ]
  },
  {
   "cell_type": "code",
   "execution_count": 14,
   "id": "b7181b0b",
   "metadata": {},
   "outputs": [
    {
     "data": {
      "image/png": "[encoded data removed]",
      "text/plain": [
       "<Figure size 800x500 with 1 Axes>"
      ]
     },
     "metadata": {},
     "output_type": "display_data"
    }
   ],
   "source": [
    "importances.sort_values().plot(kind='barh', figsize=(8,5))\n",
    "plt.title(\"Важность признаков в Gradient Boosting\")\n",
    "plt.show()"
   ]
  },
  {
   "cell_type": "code",
   "execution_count": 15,
   "id": "db191ed8",
   "metadata": {},
   "outputs": [
    {
     "name": "stdout",
     "output_type": "stream",
     "text": [
      "R^2 на тесте: 0.8697441955442159\n",
      "Важность признаков:\n",
      "smoker_yes          0.874606\n",
      "bmi                 0.037989\n",
      "age                 0.033645\n",
      "region_southwest    0.012455\n",
      "children            0.011595\n",
      "sex_male            0.011148\n",
      "region_northwest    0.009330\n",
      "region_southeast    0.009232\n",
      "dtype: float32\n"
     ]
    }
   ],
   "source": [
    "xgb = XGBRegressor(\n",
    "    n_estimators=500,     # количество деревьев\n",
    "    learning_rate=0.05,   # скорость обучения\n",
    "    max_depth=4,          # глубина деревьев\n",
    "    subsample=0.8,        # доля выборки для каждого дерева\n",
    "    colsample_bytree=0.8, # доля признаков для каждого дерева\n",
    "    random_state=42,\n",
    "    n_jobs=-1\n",
    ")\n",
    "xgb.fit(X_train, y_train)\n",
    "\n",
    "# Оценка качества\n",
    "print(\"R^2 на тесте:\", xgb.score(X_test, y_test))\n",
    "\n",
    "# Важность признаков\n",
    "importances = pd.Series(xgb.feature_importances_, index=X.columns)\n",
    "print(\"Важность признаков:\")\n",
    "print(importances.sort_values(ascending=False))"
   ]
  },
  {
   "cell_type": "code",
   "execution_count": 16,
   "id": "32311d51",
   "metadata": {},
   "outputs": [
    {
     "data": {
      "image/png": "[encoded data removed]",
      "text/plain": [
       "<Figure size 800x500 with 1 Axes>"
      ]
     },
     "metadata": {},
     "output_type": "display_data"
    }
   ],
   "source": [
    "importances.sort_values().plot(kind='barh', figsize=(8,5))\n",
    "plt.title(\"Важность признаков в XGBoost\")\n",
    "plt.show()"
   ]
  },
  {
   "cell_type": "code",
   "execution_count": 18,
   "id": "7cb36165",
   "metadata": {},
   "outputs": [
    {
     "name": "stdout",
     "output_type": "stream",
     "text": [
      "0:\tlearn: 11577.3676521\ttotal: 156ms\tremaining: 1m 17s\n",
      "100:\tlearn: 3808.6347430\ttotal: 35s\tremaining: 2m 18s\n",
      "200:\tlearn: 2504.2054655\ttotal: 3m 54s\tremaining: 5m 49s\n",
      "300:\tlearn: 1884.8024573\ttotal: 8m 21s\tremaining: 5m 31s\n"
     ]
    },
    {
     "ename": "KeyboardInterrupt",
     "evalue": "",
     "output_type": "error",
     "traceback": [
      "\u001b[31m---------------------------------------------------------------------------\u001b[39m",
      "\u001b[31mKeyboardInterrupt\u001b[39m                         Traceback (most recent call last)",
      "\u001b[36mCell\u001b[39m\u001b[36m \u001b[39m\u001b[32mIn[18]\u001b[39m\u001b[32m, line 25\u001b[39m\n\u001b[32m     15\u001b[39m \u001b[38;5;66;03m# CatBoost Regressor\u001b[39;00m\n\u001b[32m     16\u001b[39m cat = CatBoostRegressor(\n\u001b[32m     17\u001b[39m     iterations=\u001b[32m500\u001b[39m,        \u001b[38;5;66;03m# количество деревьев\u001b[39;00m\n\u001b[32m     18\u001b[39m     learning_rate=\u001b[32m0.05\u001b[39m,    \u001b[38;5;66;03m# скорость обучения\u001b[39;00m\n\u001b[32m   (...)\u001b[39m\u001b[32m     22\u001b[39m     random_state=\u001b[32m42\u001b[39m\n\u001b[32m     23\u001b[39m )\n\u001b[32m---> \u001b[39m\u001b[32m25\u001b[39m \u001b[43mcat\u001b[49m\u001b[43m.\u001b[49m\u001b[43mfit\u001b[49m\u001b[43m(\u001b[49m\u001b[43mX_train\u001b[49m\u001b[43m,\u001b[49m\u001b[43m \u001b[49m\u001b[43my_train\u001b[49m\u001b[43m,\u001b[49m\u001b[43m \u001b[49m\u001b[43mcat_features\u001b[49m\u001b[43m=\u001b[49m\u001b[43mcategorical_features\u001b[49m\u001b[43m)\u001b[49m\n\u001b[32m     27\u001b[39m \u001b[38;5;66;03m# Оценка качества\u001b[39;00m\n\u001b[32m     28\u001b[39m \u001b[38;5;28mprint\u001b[39m(\u001b[33m\"\u001b[39m\u001b[33mR^2 на тесте:\u001b[39m\u001b[33m\"\u001b[39m, cat.score(X_test, y_test))\n",
      "\u001b[36mFile \u001b[39m\u001b[32mc:\\Users\\DELL\\Desktop\\tms\\.venv\\Lib\\site-packages\\catboost\\core.py:5873\u001b[39m, in \u001b[36mCatBoostRegressor.fit\u001b[39m\u001b[34m(self, X, y, cat_features, text_features, embedding_features, graph, sample_weight, baseline, use_best_model, eval_set, verbose, logging_level, plot, plot_file, column_description, verbose_eval, metric_period, silent, early_stopping_rounds, save_snapshot, snapshot_file, snapshot_interval, init_model, callbacks, log_cout, log_cerr)\u001b[39m\n\u001b[32m   5871\u001b[39m \u001b[38;5;28;01mif\u001b[39;00m \u001b[33m'\u001b[39m\u001b[33mloss_function\u001b[39m\u001b[33m'\u001b[39m \u001b[38;5;129;01min\u001b[39;00m params:\n\u001b[32m   5872\u001b[39m     CatBoostRegressor._check_is_compatible_loss(params[\u001b[33m'\u001b[39m\u001b[33mloss_function\u001b[39m\u001b[33m'\u001b[39m])\n\u001b[32m-> \u001b[39m\u001b[32m5873\u001b[39m \u001b[38;5;28;01mreturn\u001b[39;00m \u001b[38;5;28;43mself\u001b[39;49m\u001b[43m.\u001b[49m\u001b[43m_fit\u001b[49m\u001b[43m(\u001b[49m\u001b[43mX\u001b[49m\u001b[43m,\u001b[49m\u001b[43m \u001b[49m\u001b[43my\u001b[49m\u001b[43m,\u001b[49m\u001b[43m \u001b[49m\u001b[43mcat_features\u001b[49m\u001b[43m,\u001b[49m\u001b[43m \u001b[49m\u001b[43mtext_features\u001b[49m\u001b[43m,\u001b[49m\u001b[43m \u001b[49m\u001b[43membedding_features\u001b[49m\u001b[43m,\u001b[49m\u001b[43m \u001b[49m\u001b[38;5;28;43;01mNone\u001b[39;49;00m\u001b[43m,\u001b[49m\u001b[43m \u001b[49m\u001b[43mgraph\u001b[49m\u001b[43m,\u001b[49m\u001b[43m \u001b[49m\u001b[43msample_weight\u001b[49m\u001b[43m,\u001b[49m\u001b[43m \u001b[49m\u001b[38;5;28;43;01mNone\u001b[39;49;00m\u001b[43m,\u001b[49m\u001b[43m \u001b[49m\u001b[38;5;28;43;01mNone\u001b[39;49;00m\u001b[43m,\u001b[49m\u001b[43m \u001b[49m\u001b[38;5;28;43;01mNone\u001b[39;49;00m\u001b[43m,\u001b[49m\u001b[43m \u001b[49m\u001b[38;5;28;43;01mNone\u001b[39;49;00m\u001b[43m,\u001b[49m\u001b[43m \u001b[49m\u001b[43mbaseline\u001b[49m\u001b[43m,\u001b[49m\n\u001b[32m   5874\u001b[39m \u001b[43m                 \u001b[49m\u001b[43muse_best_model\u001b[49m\u001b[43m,\u001b[49m\u001b[43m \u001b[49m\u001b[43meval_set\u001b[49m\u001b[43m,\u001b[49m\u001b[43m \u001b[49m\u001b[43mverbose\u001b[49m\u001b[43m,\u001b[49m\u001b[43m \u001b[49m\u001b[43mlogging_level\u001b[49m\u001b[43m,\u001b[49m\u001b[43m \u001b[49m\u001b[43mplot\u001b[49m\u001b[43m,\u001b[49m\u001b[43m \u001b[49m\u001b[43mplot_file\u001b[49m\u001b[43m,\u001b[49m\u001b[43m \u001b[49m\u001b[43mcolumn_description\u001b[49m\u001b[43m,\u001b[49m\n\u001b[32m   5875\u001b[39m \u001b[43m                 \u001b[49m\u001b[43mverbose_eval\u001b[49m\u001b[43m,\u001b[49m\u001b[43m \u001b[49m\u001b[43mmetric_period\u001b[49m\u001b[43m,\u001b[49m\u001b[43m \u001b[49m\u001b[43msilent\u001b[49m\u001b[43m,\u001b[49m\u001b[43m \u001b[49m\u001b[43mearly_stopping_rounds\u001b[49m\u001b[43m,\u001b[49m\n\u001b[32m   5876\u001b[39m \u001b[43m                 \u001b[49m\u001b[43msave_snapshot\u001b[49m\u001b[43m,\u001b[49m\u001b[43m \u001b[49m\u001b[43msnapshot_file\u001b[49m\u001b[43m,\u001b[49m\u001b[43m \u001b[49m\u001b[43msnapshot_interval\u001b[49m\u001b[43m,\u001b[49m\u001b[43m \u001b[49m\u001b[43minit_model\u001b[49m\u001b[43m,\u001b[49m\u001b[43m \u001b[49m\u001b[43mcallbacks\u001b[49m\u001b[43m,\u001b[49m\u001b[43m \u001b[49m\u001b[43mlog_cout\u001b[49m\u001b[43m,\u001b[49m\u001b[43m \u001b[49m\u001b[43mlog_cerr\u001b[49m\u001b[43m)\u001b[49m\n",
      "\u001b[36mFile \u001b[39m\u001b[32mc:\\Users\\DELL\\Desktop\\tms\\.venv\\Lib\\site-packages\\catboost\\core.py:2410\u001b[39m, in \u001b[36mCatBoost._fit\u001b[39m\u001b[34m(self, X, y, cat_features, text_features, embedding_features, pairs, graph, sample_weight, group_id, group_weight, subgroup_id, pairs_weight, baseline, use_best_model, eval_set, verbose, logging_level, plot, plot_file, column_description, verbose_eval, metric_period, silent, early_stopping_rounds, save_snapshot, snapshot_file, snapshot_interval, init_model, callbacks, log_cout, log_cerr)\u001b[39m\n\u001b[32m   2407\u001b[39m allow_clear_pool = train_params[\u001b[33m\"\u001b[39m\u001b[33mallow_clear_pool\u001b[39m\u001b[33m\"\u001b[39m]\n\u001b[32m   2409\u001b[39m \u001b[38;5;28;01mwith\u001b[39;00m plot_wrapper(plot, plot_file, \u001b[33m'\u001b[39m\u001b[33mTraining plots\u001b[39m\u001b[33m'\u001b[39m, [_get_train_dir(\u001b[38;5;28mself\u001b[39m.get_params())]):\n\u001b[32m-> \u001b[39m\u001b[32m2410\u001b[39m     \u001b[38;5;28;43mself\u001b[39;49m\u001b[43m.\u001b[49m\u001b[43m_train\u001b[49m\u001b[43m(\u001b[49m\n\u001b[32m   2411\u001b[39m \u001b[43m        \u001b[49m\u001b[43mtrain_pool\u001b[49m\u001b[43m,\u001b[49m\n\u001b[32m   2412\u001b[39m \u001b[43m        \u001b[49m\u001b[43mtrain_params\u001b[49m\u001b[43m[\u001b[49m\u001b[33;43m\"\u001b[39;49m\u001b[33;43meval_sets\u001b[39;49m\u001b[33;43m\"\u001b[39;49m\u001b[43m]\u001b[49m\u001b[43m,\u001b[49m\n\u001b[32m   2413\u001b[39m \u001b[43m        \u001b[49m\u001b[43mparams\u001b[49m\u001b[43m,\u001b[49m\n\u001b[32m   2414\u001b[39m \u001b[43m        \u001b[49m\u001b[43mallow_clear_pool\u001b[49m\u001b[43m,\u001b[49m\n\u001b[32m   2415\u001b[39m \u001b[43m        \u001b[49m\u001b[43mtrain_params\u001b[49m\u001b[43m[\u001b[49m\u001b[33;43m\"\u001b[39;49m\u001b[33;43minit_model\u001b[39;49m\u001b[33;43m\"\u001b[39;49m\u001b[43m]\u001b[49m\n\u001b[32m   2416\u001b[39m \u001b[43m    \u001b[49m\u001b[43m)\u001b[49m\n\u001b[32m   2418\u001b[39m \u001b[38;5;66;03m# Have property feature_importance possibly set\u001b[39;00m\n\u001b[32m   2419\u001b[39m loss = \u001b[38;5;28mself\u001b[39m._object._get_loss_function_name()\n",
      "\u001b[36mFile \u001b[39m\u001b[32mc:\\Users\\DELL\\Desktop\\tms\\.venv\\Lib\\site-packages\\catboost\\core.py:1790\u001b[39m, in \u001b[36m_CatBoostBase._train\u001b[39m\u001b[34m(self, train_pool, test_pool, params, allow_clear_pool, init_model)\u001b[39m\n\u001b[32m   1789\u001b[39m \u001b[38;5;28;01mdef\u001b[39;00m\u001b[38;5;250m \u001b[39m\u001b[34m_train\u001b[39m(\u001b[38;5;28mself\u001b[39m, train_pool, test_pool, params, allow_clear_pool, init_model):\n\u001b[32m-> \u001b[39m\u001b[32m1790\u001b[39m     \u001b[38;5;28;43mself\u001b[39;49m\u001b[43m.\u001b[49m\u001b[43m_object\u001b[49m\u001b[43m.\u001b[49m\u001b[43m_train\u001b[49m\u001b[43m(\u001b[49m\u001b[43mtrain_pool\u001b[49m\u001b[43m,\u001b[49m\u001b[43m \u001b[49m\u001b[43mtest_pool\u001b[49m\u001b[43m,\u001b[49m\u001b[43m \u001b[49m\u001b[43mparams\u001b[49m\u001b[43m,\u001b[49m\u001b[43m \u001b[49m\u001b[43mallow_clear_pool\u001b[49m\u001b[43m,\u001b[49m\u001b[43m \u001b[49m\u001b[43minit_model\u001b[49m\u001b[43m.\u001b[49m\u001b[43m_object\u001b[49m\u001b[43m \u001b[49m\u001b[38;5;28;43;01mif\u001b[39;49;00m\u001b[43m \u001b[49m\u001b[43minit_model\u001b[49m\u001b[43m \u001b[49m\u001b[38;5;28;43;01melse\u001b[39;49;00m\u001b[43m \u001b[49m\u001b[38;5;28;43;01mNone\u001b[39;49;00m\u001b[43m)\u001b[49m\n\u001b[32m   1791\u001b[39m     \u001b[38;5;28mself\u001b[39m._set_trained_model_attributes()\n",
      "\u001b[36mFile \u001b[39m\u001b[32m_catboost.pyx:5023\u001b[39m, in \u001b[36m_catboost._CatBoost._train\u001b[39m\u001b[34m()\u001b[39m\n",
      "\u001b[36mFile \u001b[39m\u001b[32m_catboost.pyx:5072\u001b[39m, in \u001b[36m_catboost._CatBoost._train\u001b[39m\u001b[34m()\u001b[39m\n",
      "\u001b[31mKeyboardInterrupt\u001b[39m: "
     ]
    }
   ],
   "source": [
    "df = pd.read_csv(\"insurance.csv\")\n",
    "\n",
    "# Признаки и цель\n",
    "X = df[['age','sex','bmi','children','smoker','region']]\n",
    "y = df['charges']\n",
    "\n",
    "# Указываем категориальные признаки (их индексы или названия)\n",
    "categorical_features = ['sex', 'smoker', 'region']\n",
    "\n",
    "# Разделение на train/test\n",
    "X_train, X_test, y_train, y_test = train_test_split(\n",
    "    X, y, test_size=0.2, random_state=42\n",
    ")\n",
    "\n",
    "# CatBoost Regressor\n",
    "cat = CatBoostRegressor(\n",
    "    iterations=500,        # количество деревьев\n",
    "    learning_rate=0.05,    # скорость обучения\n",
    "    depth=16,               # глубина деревьев\n",
    "    cat_features=categorical_features,\n",
    "    verbose=100,           # вывод прогресса каждые 100 итераций\n",
    "    random_state=42\n",
    ")\n",
    "\n",
    "cat.fit(X_train, y_train, cat_features=categorical_features)\n",
    "\n",
    "# Оценка качества\n",
    "print(\"R^2 на тесте:\", cat.score(X_test, y_test))\n",
    "\n",
    "# Важность признаков\n",
    "importances = cat.get_feature_importance(prettified=True)\n",
    "print(importances)"
   ]
  },
  {
   "cell_type": "code",
   "execution_count": null,
   "id": "f580f493",
   "metadata": {},
   "outputs": [
    {
     "data": {
      "image/png": "[encoded data removed]",
      "text/plain": [
       "<Figure size 640x480 with 1 Axes>"
      ]
     },
     "metadata": {},
     "output_type": "display_data"
    }
   ],
   "source": [
    "feat_importances = cat.get_feature_importance()\n",
    "plt.barh(X.columns, feat_importances)\n",
    "plt.title(\"Важность признаков в CatBoost\")\n",
    "plt.show()"
   ]
  },
  {
   "cell_type": "code",
   "execution_count": null,
   "id": "4b60e1d4",
   "metadata": {},
   "outputs": [
    {
     "name": "stdout",
     "output_type": "stream",
     "text": [
      "[LightGBM] [Info] Auto-choosing row-wise multi-threading, the overhead of testing was 0.000023 seconds.\n",
      "You can set `force_row_wise=true` to remove the overhead.\n",
      "And if memory is not enough, you can set `force_col_wise=true`.\n",
      "[LightGBM] [Info] Total Bins 319\n",
      "[LightGBM] [Info] Number of data points in the train set: 1070, number of used features: 8\n",
      "[LightGBM] [Info] Start training from score 13346.089733\n",
      "[LightGBM] [Warning] No further splits with positive gain, best gain: -inf\n",
      "[LightGBM] [Warning] No further splits with positive gain, best gain: -inf\n",
      "[LightGBM] [Warning] No further splits with positive gain, best gain: -inf\n",
      "[LightGBM] [Warning] No further splits with positive gain, best gain: -inf\n",
      "[LightGBM] [Warning] No further splits with positive gain, best gain: -inf\n",
      "[LightGBM] [Warning] No further splits with positive gain, best gain: -inf\n",
      "[LightGBM] [Warning] No further splits with positive gain, best gain: -inf\n",
      "[LightGBM] [Warning] No further splits with positive gain, best gain: -inf\n",
      "[LightGBM] [Warning] No further splits with positive gain, best gain: -inf\n",
      "R^2 на тесте: 0.8364500082486404\n",
      "Важность признаков:\n",
      "bmi                 13303\n",
      "age                  8806\n",
      "children             3128\n",
      "sex_male             1724\n",
      "region_northwest      918\n",
      "region_southeast      908\n",
      "region_southwest      710\n",
      "smoker_yes            493\n",
      "dtype: int32\n"
     ]
    }
   ],
   "source": [
    "df = pd.read_csv(\"insurance.csv\")\n",
    "\n",
    "# Признаки и цель\n",
    "X = df[['age','sex','bmi','children','smoker','region']]\n",
    "y = df['charges']\n",
    "\n",
    "# One-hot encoding для категориальных колонок\n",
    "X = pd.get_dummies(X, drop_first=True)\n",
    "\n",
    "# Разделение на train/test\n",
    "X_train, X_test, y_train, y_test = train_test_split(\n",
    "    X, y, test_size=0.2, random_state=42\n",
    ")\n",
    "\n",
    "# LightGBM Regressor\n",
    "lgbm = lgb.LGBMRegressor(\n",
    "    n_estimators=1000,     # количество деревьев\n",
    "    learning_rate=0.05,   # скорость обучения\n",
    "    max_depth=-1,         # глубина (-1 = без ограничения)\n",
    "    num_leaves=31,        # число листьев (важный параметр)\n",
    "    subsample=0.8,        # доля выборки для каждого дерева\n",
    "    colsample_bytree=0.8, # доля признаков для каждого дерева\n",
    "    random_state=42\n",
    ")\n",
    "\n",
    "lgbm.fit(X_train, y_train)\n",
    "\n",
    "# Оценка качества\n",
    "print(\"R^2 на тесте:\", lgbm.score(X_test, y_test))\n",
    "\n",
    "# Важность признаков\n",
    "importances = pd.Series(lgbm.feature_importances_, index=X.columns)\n",
    "print(\"Важность признаков:\")\n",
    "print(importances.sort_values(ascending=False))"
   ]
  },
  {
   "cell_type": "code",
   "execution_count": null,
   "id": "1826d9e7",
   "metadata": {},
   "outputs": [
    {
     "data": {
      "image/png": "[encoded data removed]",
      "text/plain": [
       "<Figure size 800x500 with 1 Axes>"
      ]
     },
     "metadata": {},
     "output_type": "display_data"
    }
   ],
   "source": [
    "importances.sort_values().plot(kind='barh', figsize=(8,5))\n",
    "plt.title(\"Важность признаков в LightGBM\")\n",
    "plt.show()"
   ]
  }
 ],
 "metadata": {
  "kernelspec": {
   "display_name": ".venv",
   "language": "python",
   "name": "python3"
  },
  "language_info": {
   "codemirror_mode": {
    "name": "ipython",
    "version": 3
   },
   "file_extension": ".py",
   "mimetype": "text/x-python",
   "name": "python",
   "nbconvert_exporter": "python",
   "pygments_lexer": "ipython3",
   "version": "3.13.5"
  }
 },
 "nbformat": 4,
 "nbformat_minor": 5
}
